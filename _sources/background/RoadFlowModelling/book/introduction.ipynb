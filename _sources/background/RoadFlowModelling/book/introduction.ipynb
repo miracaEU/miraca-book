{
 "cells": [
  {
   "cell_type": "markdown",
   "metadata": {},
   "source": [
    "# Miraca template\n",
    "\n",
    "Here goes some text to explain the work package\n"
   ]
  }
 ],
 "metadata": {
  "language_info": {
   "name": "python"
  }
 },
 "nbformat": 4,
 "nbformat_minor": 2
}
