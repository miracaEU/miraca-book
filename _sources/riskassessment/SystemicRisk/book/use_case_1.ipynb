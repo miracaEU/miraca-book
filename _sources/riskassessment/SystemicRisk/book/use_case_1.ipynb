{
 "cells": [
  {
   "cell_type": "markdown",
   "metadata": {},
   "source": [
    "# Use case 1 exmaple\n",
    "\n",
    "Here goes some text to explain the use case\n"
   ]
  }
 ],
 "metadata": {
  "language_info": {
   "name": "python"
  }
 },
 "nbformat": 4,
 "nbformat_minor": 2
}
